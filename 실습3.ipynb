{
  "nbformat": 4,
  "nbformat_minor": 0,
  "metadata": {
    "colab": {
      "name": "실습3",
      "provenance": [],
      "collapsed_sections": []
    },
    "kernelspec": {
      "name": "python3",
      "display_name": "Python 3"
    },
    "language_info": {
      "name": "python"
    }
  },
  "cells": [
    {
      "cell_type": "markdown",
      "metadata": {
        "id": "j__rXSkNG3-T"
      },
      "source": [
        "2021년 4월 5일 실습3"
      ]
    },
    {
      "cell_type": "markdown",
      "metadata": {
        "id": "NuRrXtLhQ59H"
      },
      "source": [
        "###리스트"
      ]
    },
    {
      "cell_type": "markdown",
      "metadata": {
        "id": "ZFXpSl57HZ0x"
      },
      "source": [
        "####실습1: 리스트 생성"
      ]
    },
    {
      "cell_type": "code",
      "metadata": {
        "colab": {
          "base_uri": "https://localhost:8080/"
        },
        "id": "b5ytecruGXLc",
        "outputId": "6503f9a6-0f6e-4ab0-edb2-975532669c75"
      },
      "source": [
        "empty=[]\n",
        "number=[1,2,3]\n",
        "strings=['new','face']\n",
        "numandstr=[1,2,3,'new','face']\n",
        "listinlist=[[1,3,5],[2,4,6]]\n",
        "odd=[1,3,5,7,9]\n",
        "\n",
        "print(odd[0])\n",
        "print(odd[1])\n",
        "print(odd[4])\n",
        "print(odd[-1])"
      ],
      "execution_count": 1,
      "outputs": [
        {
          "output_type": "stream",
          "text": [
            "1\n",
            "3\n",
            "9\n",
            "9\n"
          ],
          "name": "stdout"
        }
      ]
    },
    {
      "cell_type": "markdown",
      "metadata": {
        "id": "GHnG8QM1I4w9"
      },
      "source": [
        "####실습2: 원소 추가"
      ]
    },
    {
      "cell_type": "code",
      "metadata": {
        "colab": {
          "base_uri": "https://localhost:8080/"
        },
        "id": "foyZOpzSHcnj",
        "outputId": "f70682b1-64bf-4f5c-fe34-9dadd8489459"
      },
      "source": [
        "aa=[]\n",
        "aa.append(0)    #aa[0]=0 오류!!!!!\n",
        "print(aa)\n",
        "\n",
        "aa=[]\n",
        "for i in range(4):\n",
        "    aa.append(0)\n",
        "print(aa)\n",
        "print(len(aa))\n",
        "\n",
        "#print(aa[4]) 오류!!!!!"
      ],
      "execution_count": 7,
      "outputs": [
        {
          "output_type": "stream",
          "text": [
            "[0]\n",
            "[0, 0, 0, 0]\n",
            "4\n"
          ],
          "name": "stdout"
        }
      ]
    },
    {
      "cell_type": "markdown",
      "metadata": {
        "id": "VWmFzKWhjjqn"
      },
      "source": [
        "####실습3: 리스트와 if문"
      ]
    },
    {
      "cell_type": "code",
      "metadata": {
        "colab": {
          "base_uri": "https://localhost:8080/"
        },
        "id": "nsnLDFzqji3W",
        "outputId": "eda54bb8-68fa-41ab-91df-de167b67e65d"
      },
      "source": [
        "import random\n",
        "\n",
        "numbers=[random.randrange(0,10) for _ in range(0,10)]\n",
        "print(\"생성된 리스트:\",numbers)\n",
        "\n",
        "for i in range(10):\n",
        "    if i not in numbers:\n",
        "        print(\"숫자 %d는(은) 리스트에 없네요.\" %(i+1))"
      ],
      "execution_count": 16,
      "outputs": [
        {
          "output_type": "stream",
          "text": [
            "생성된 리스트: [1, 1, 5, 2, 3, 3, 4, 3, 0, 3]\n",
            "숫자 7는(은) 리스트에 없네요.\n",
            "숫자 8는(은) 리스트에 없네요.\n",
            "숫자 9는(은) 리스트에 없네요.\n",
            "숫자 10는(은) 리스트에 없네요.\n"
          ],
          "name": "stdout"
        }
      ]
    },
    {
      "cell_type": "code",
      "metadata": {
        "colab": {
          "base_uri": "https://localhost:8080/"
        },
        "id": "5f6-HON6mLuq",
        "outputId": "144012c4-f241-4eee-ee0c-d47a69b21d4a"
      },
      "source": [
        "#계산기 프로그램\n",
        "\n",
        "select=input((\"1.입력한 수식 계산\\t2.두 수 사이의 합계:  \"))\n",
        "if select=='1':\n",
        "    exp=input(\"***수식을 입력하세요: \")\n",
        "    ans=eval(exp)\n",
        "    print(\"%s 결과는 %.2f입니다.\" %(exp,ans))\n",
        "\n",
        "elif select=='2':\n",
        "    n1=int(input(\"***첫번째 정수를 입력하세요: \"))\n",
        "    n2=int(input(\"***두번째 정수를 입력하세요: \"))\n",
        "    hap=0\n",
        "    for i in range(n1,n2+1):\n",
        "        hap+=i\n",
        "    print(\"%d+%d+...+%d 결과는 %d입니다.\" %(n1,n1+1,n2,hap))\n",
        "\n",
        "else: print(\"1 또는 2를 입력해 주세요.\")    "
      ],
      "execution_count": 23,
      "outputs": [
        {
          "output_type": "stream",
          "text": [
            "1.입력한 수식 계산\t2.두 수 사이의 합계:  2\n",
            "***첫번째 정수를 입력하세요: 6\n",
            "***두번째 정수를 입력하세요: 17\n",
            "6+7+...+17 결과는 138입니다.\n"
          ],
          "name": "stdout"
        }
      ]
    },
    {
      "cell_type": "markdown",
      "metadata": {
        "id": "dhNR8C-ipMm5"
      },
      "source": [
        "####실습4: 리스트와 for문"
      ]
    },
    {
      "cell_type": "code",
      "metadata": {
        "colab": {
          "base_uri": "https://localhost:8080/"
        },
        "id": "jFXhmz9ipPTo",
        "outputId": "119de5f0-8b0b-438b-abd9-3e3a92bda191"
      },
      "source": [
        "aa=[0,0,0,0]\n",
        "hap=0\n",
        "for i in range(4):\n",
        "    aa[i]=int(input(f'{i+1}번째 숫자: '))\n",
        "    hap+=aa[i]\n",
        "\n",
        "print(\"합계 ==>\",hap)"
      ],
      "execution_count": 24,
      "outputs": [
        {
          "output_type": "stream",
          "text": [
            "1번째 숫자: 1\n",
            "2번째 숫자: 2\n",
            "3번째 숫자: 5\n",
            "4번째 숫자: 6\n",
            "합계 ==> 14\n"
          ],
          "name": "stdout"
        }
      ]
    },
    {
      "cell_type": "code",
      "metadata": {
        "colab": {
          "base_uri": "https://localhost:8080/"
        },
        "id": "z46boK-ZpUmb",
        "outputId": "542fc885-e1f1-43aa-9ca7-4aabb112a558"
      },
      "source": [
        "aa,bb=[],[]; value=0\n",
        "for _ in range(0,100):\n",
        "    aa.append(value)\n",
        "    value+=2\n",
        "\n",
        "for i in range(0,100):\n",
        "    bb.append(aa[99-i])     #99번째 원소->0번째\n",
        "print(\"bb[0]에는 %d이, bb[99]에는 %d이 입력됩니다.\" %(bb[0],bb[99]))"
      ],
      "execution_count": 26,
      "outputs": [
        {
          "output_type": "stream",
          "text": [
            "bb[0]에는 198이, bb[99]에는 0이 입력됩니다.\n"
          ],
          "name": "stdout"
        }
      ]
    },
    {
      "cell_type": "markdown",
      "metadata": {
        "id": "yc0Yfj1VKoTn"
      },
      "source": [
        "####실습5: 값 접근"
      ]
    },
    {
      "cell_type": "code",
      "metadata": {
        "colab": {
          "base_uri": "https://localhost:8080/"
        },
        "id": "CSZgtFH_Kr7a",
        "outputId": "ce44e956-950a-44cf-b560-ce2424ce3732"
      },
      "source": [
        "aa=[10,20,30,40]\n",
        "print(\"aa[-1]은 %d, aa[-2]는 %d\" %(aa[-1],aa[-2]))\n",
        "\n",
        "print(aa[0:3])\n",
        "print(aa[2:4])\n",
        "\n",
        "print(aa[2:])\n",
        "print(aa[:2])\n",
        "\n",
        "aa=[10,20,30]; bb=[40,50,60]\n",
        "print(aa+bb)\n",
        "print(aa*3)\n",
        "print(aa)\n",
        "print(bb)"
      ],
      "execution_count": null,
      "outputs": [
        {
          "output_type": "stream",
          "text": [
            "aa[-1]은 40, aa[-2]는 30\n",
            "[10, 20, 30]\n",
            "[30, 40]\n",
            "[30, 40]\n",
            "[10, 20]\n",
            "[10, 20, 30, 40, 50, 60]\n",
            "[10, 20, 30, 10, 20, 30, 10, 20, 30]\n",
            "[10, 20, 30]\n",
            "[40, 50, 60]\n"
          ],
          "name": "stdout"
        }
      ]
    },
    {
      "cell_type": "markdown",
      "metadata": {
        "id": "aEKAnMJeLkcK"
      },
      "source": [
        "####실습6: 리스트 함수"
      ]
    },
    {
      "cell_type": "code",
      "metadata": {
        "colab": {
          "base_uri": "https://localhost:8080/"
        },
        "id": "9oymqUOWLPDt",
        "outputId": "078490e0-22e3-4ac9-d484-ab7ce3da3d6a"
      },
      "source": [
        "myList=[30,10,20]\n",
        "print(\"현재 리스트: %s\" %myList)\n",
        "myList.append(40); print(myList)\n",
        "print(\"pop()으로 추출한 값: %s\" %myList.pop()); print(myList)   #기존 리스트에 적용되고, 추출값 반환함!!!!!\n",
        "\n",
        "myList.sort(); print(myList)\n",
        "myList.reverse(); print(myList)\n",
        "myList.insert(2,222); print(myList)\n",
        "myList.remove(222); print(myList)\n",
        "myList.extend([77,88,77]); print(myList)    #extend(77,88,77) 오류남!!!!! 요소 하나만 취함\n",
        "myList.append([77,88,77]); print(myList)\n",
        "\n",
        "print(\"20값의 위치: %d\" %myList.index(20))\n",
        "print(\"77값의 개수: %d\" %myList.count(77))"
      ],
      "execution_count": 31,
      "outputs": [
        {
          "output_type": "stream",
          "text": [
            "현재 리스트: [30, 10, 20]\n",
            "[30, 10, 20, 40]\n",
            "pop()으로 추출한 값: 40\n",
            "[30, 10, 20]\n",
            "[10, 20, 30]\n",
            "[30, 20, 10]\n",
            "[30, 20, 222, 10]\n",
            "[30, 20, 10]\n",
            "[30, 20, 10, 77, 88, 77]\n",
            "[30, 20, 10, 77, 88, 77, [77, 88, 77]]\n",
            "20값의 위치: 1\n",
            "77값의 개수: 2\n"
          ],
          "name": "stdout"
        }
      ]
    },
    {
      "cell_type": "code",
      "metadata": {
        "id": "9HeSa91Jl3mV"
      },
      "source": [
        "#list.sort() vs sorted(list)\n",
        "\n",
        "import random\n",
        "List=[randome.randrange(100) for _ in range(20)]\n",
        "\n",
        "print(\"정렬된 리스트:\",sorted(List))    #기존 리스트는 그대로고, 정렬된 새 리스트 반환함\n",
        "print(\"현재 리스트:\",List)\n",
        "print(\"정렬된 리스트:\",List.sort())     #기존 리스트를 정렬하되 반환값은 None!!!!!\n",
        "print(\"현재 리스트:\",List)\n",
        "print()"
      ],
      "execution_count": null,
      "outputs": []
    },
    {
      "cell_type": "markdown",
      "metadata": {
        "id": "bzV5JZKCOyTg"
      },
      "source": [
        "###2차원 리스트"
      ]
    },
    {
      "cell_type": "code",
      "metadata": {
        "colab": {
          "base_uri": "https://localhost:8080/"
        },
        "id": "xe7f75oMO1Po",
        "outputId": "7cc101d2-1f8c-4c96-8135-5f56a87032a7"
      },
      "source": [
        "list1,list2=[],[]\n",
        "value=1\n",
        "\n",
        "#2차원 리스트 생성\n",
        "for _ in range(0,3):\n",
        "    for _ in range(0,4):\n",
        "        list1.append(value)\n",
        "        value+=1\n",
        "    list2.append(list1)\n",
        "    list1=[]\n",
        "\n",
        "#출력\n",
        "for i in range(0,3):\n",
        "    for k in range(0,4):\n",
        "        print(\"%4d\" %list2[i][k], end='')   #리스트명[행][열]\n",
        "    print()"
      ],
      "execution_count": null,
      "outputs": [
        {
          "output_type": "stream",
          "text": [
            "   1   2   3   4\n",
            "   5   6   7   8\n",
            "   9  10  11  12\n"
          ],
          "name": "stdout"
        }
      ]
    },
    {
      "cell_type": "markdown",
      "metadata": {
        "id": "te54h3p3Q7sA"
      },
      "source": [
        "###딕셔너리"
      ]
    },
    {
      "cell_type": "code",
      "metadata": {
        "colab": {
          "base_uri": "https://localhost:8080/"
        },
        "id": "4XtGQ0d9QcNu",
        "outputId": "f87d5cd7-8837-4455-dc2c-7b3f448ca45d"
      },
      "source": [
        "student1={\"학번\":1000, \"이름\":'차수빈', \"학과\":'컴퓨터공학과'}\n",
        "print(student1)\n",
        "\n",
        "#연락처 추가\n",
        "student1['연락처']='010-1111-2222'\n",
        "print(student1)\n",
        "\n",
        "#학과 수정\n",
        "student1['학과']='휴먼기계바이오공학부'\n",
        "print(student1)\n",
        "\n",
        "#학과 삭제\n",
        "del(student1['학과'])\n",
        "print(student1)\n",
        "\n",
        "#키 중복\n",
        "student1={\"학번\":1000, \"이름\":'차수빈', \"학과\":'휴먼기계바이오공학부', \"학번\":2000}\n",
        "print(student1)\n",
        "\n",
        "#키로 값에 접근\n",
        "print(student1['학번'])\n",
        "print(student1['이름'])\n",
        "print(student1['학과'])\n",
        "print(student1.get('이름'))\n",
        "\n",
        "#print(student1['주소'])\n",
        "print(student1.get('주소'))     #없는 키 찾을 때 딕셔너리명.get(키)를 사용\n",
        "\n",
        "#모든 키/값 반환\n",
        "print(student1.keys())\n",
        "print(list(student1.keys()))\n",
        "print(student1.values())\n",
        "\n",
        "#튜플\n",
        "print(student1.items())\n",
        "\n",
        "print('이름' in student1)\n",
        "print('주소' in student1)"
      ],
      "execution_count": null,
      "outputs": [
        {
          "output_type": "stream",
          "text": [
            "{'학번': 1000, '이름': '차수빈', '학과': '컴퓨터공학과'}\n",
            "{'학번': 1000, '이름': '차수빈', '학과': '컴퓨터공학과', '연락처': '010-1111-2222'}\n",
            "{'학번': 1000, '이름': '차수빈', '학과': '휴먼기계바이오공학부', '연락처': '010-1111-2222'}\n",
            "{'학번': 1000, '이름': '차수빈', '연락처': '010-1111-2222'}\n",
            "{'학번': 2000, '이름': '차수빈', '학과': '휴먼기계바이오공학부'}\n",
            "2000\n",
            "차수빈\n",
            "휴먼기계바이오공학부\n",
            "차수빈\n",
            "None\n",
            "dict_keys(['학번', '이름', '학과'])\n",
            "['학번', '이름', '학과']\n",
            "dict_values([2000, '차수빈', '휴먼기계바이오공학부'])\n",
            "dict_items([('학번', 2000), ('이름', '차수빈'), ('학과', '휴먼기계바이오공학부')])\n",
            "True\n",
            "False\n"
          ],
          "name": "stdout"
        }
      ]
    },
    {
      "cell_type": "code",
      "metadata": {
        "colab": {
          "base_uri": "https://localhost:8080/"
        },
        "id": "qEV6k0qGsjTU",
        "outputId": "c935faa5-6d34-4389-ef49-5867c94fb38c"
      },
      "source": [
        "netflix={}\n",
        "netflix['드라마']='스위트홈'\n",
        "netflix['등장인물']='차현수'\n",
        "netflix['나이']='19'\n",
        "netflix['괴물여부']='O'\n",
        "\n",
        "for i in netflix.keys():\n",
        "    print(f'{i} ==> {netflix[i]}')"
      ],
      "execution_count": 33,
      "outputs": [
        {
          "output_type": "stream",
          "text": [
            "드라마 ==> 스위트홈\n",
            "등장인물 ==> 차현수\n",
            "나이 ==> 19\n",
            "괴물여부 ==> O\n"
          ],
          "name": "stdout"
        }
      ]
    },
    {
      "cell_type": "markdown",
      "metadata": {
        "id": "FVghrsE_Xmqg"
      },
      "source": [
        "###zip()\n",
        "\n",
        "동일한 개수로 이루어진 자료형을 묶어주는 역할. 짝지어지지 않는 것들은 무시. "
      ]
    },
    {
      "cell_type": "code",
      "metadata": {
        "colab": {
          "base_uri": "https://localhost:8080/"
        },
        "id": "Woo8IT0STXLE",
        "outputId": "699bc58c-a786-4bae-f6f1-62b012ce7573"
      },
      "source": [
        "print(list(zip([1,2,3],[4,5,6])))\n",
        "print(list(zip([1,2,3],[4,5,6],[7,8,9])))\n",
        "list(zip(\"abc\",\"def\"))"
      ],
      "execution_count": 35,
      "outputs": [
        {
          "output_type": "stream",
          "text": [
            "[(1, 4), (2, 5), (3, 6)]\n",
            "[(1, 4, 7), (2, 5, 8), (3, 6, 9)]\n"
          ],
          "name": "stdout"
        },
        {
          "output_type": "execute_result",
          "data": {
            "text/plain": [
              "[('a', 'd'), ('b', 'e'), ('c', 'f')]"
            ]
          },
          "metadata": {
            "tags": []
          },
          "execution_count": 35
        }
      ]
    },
    {
      "cell_type": "code",
      "metadata": {
        "id": "WUg-4Mr8TqQy",
        "colab": {
          "base_uri": "https://localhost:8080/"
        },
        "outputId": "46dec8a4-e204-4119-92f0-894690db093f"
      },
      "source": [
        "foods=[\"떡볶이\",\"짜장면\",\"피자\",\"치킨\",\"삼겹살\",\"맥주\"]\n",
        "sides=[\"오뎅\",\"단무지\",\"김치\"]\n",
        "for a,b in zip(foods,sides):\n",
        "    print(a,'==>',b)"
      ],
      "execution_count": 34,
      "outputs": [
        {
          "output_type": "stream",
          "text": [
            "떡볶이 ==> 오뎅\n",
            "짜장면 ==> 단무지\n",
            "피자 ==> 김치\n"
          ],
          "name": "stdout"
        }
      ]
    }
  ]
}