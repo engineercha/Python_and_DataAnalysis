{
  "nbformat": 4,
  "nbformat_minor": 0,
  "metadata": {
    "colab": {
      "name": "실습3.ipynb",
      "provenance": [],
      "collapsed_sections": []
    },
    "kernelspec": {
      "name": "python3",
      "display_name": "Python 3"
    },
    "language_info": {
      "name": "python"
    }
  },
  "cells": [
    {
      "cell_type": "markdown",
      "metadata": {
        "id": "ohLw24VDOnU4"
      },
      "source": [
        "###튜플"
      ]
    },
    {
      "cell_type": "code",
      "metadata": {
        "colab": {
          "base_uri": "https://localhost:8080/"
        },
        "id": "SQQckiV5OjJF",
        "outputId": "8188be4f-b80c-4295-fe8f-e8ca79894f46"
      },
      "source": [
        "tt1=(10,20,30); print(tt1, type(tt1))\n",
        "tt2=10,20,30; print(tt2, type(tt2))"
      ],
      "execution_count": 2,
      "outputs": [
        {
          "output_type": "stream",
          "text": [
            "(10, 20, 30) <class 'tuple'>\n",
            "(10, 20, 30) <class 'tuple'>\n"
          ],
          "name": "stdout"
        }
      ]
    },
    {
      "cell_type": "code",
      "metadata": {
        "colab": {
          "base_uri": "https://localhost:8080/"
        },
        "id": "rkrA8nouO4NW",
        "outputId": "fa8e0adb-2ee1-4e2c-c49e-c52b43fd2081"
      },
      "source": [
        "tt3=10,; print(tt3, type(tt3))     #항목이 하나인 튜플은 뒤에 쉼표(,)"
      ],
      "execution_count": 3,
      "outputs": [
        {
          "output_type": "stream",
          "text": [
            "(10,) <class 'tuple'>\n"
          ],
          "name": "stdout"
        }
      ]
    },
    {
      "cell_type": "code",
      "metadata": {
        "colab": {
          "base_uri": "https://localhost:8080/"
        },
        "id": "RY_jESXDPHI1",
        "outputId": "9f4e78ae-c603-455c-f7f4-6952420f5548"
      },
      "source": [
        "print(tt1[0])\n",
        "tt2[0]+tt2[1]+tt2[2]"
      ],
      "execution_count": 16,
      "outputs": [
        {
          "output_type": "stream",
          "text": [
            "10\n"
          ],
          "name": "stdout"
        },
        {
          "output_type": "execute_result",
          "data": {
            "text/plain": [
              "60"
            ]
          },
          "metadata": {
            "tags": []
          },
          "execution_count": 16
        }
      ]
    },
    {
      "cell_type": "code",
      "metadata": {
        "colab": {
          "base_uri": "https://localhost:8080/"
        },
        "id": "A9jwRGBSPdv3",
        "outputId": "7e85a5fb-7800-4e1a-d704-1c1dbe0575c4"
      },
      "source": [
        "tt2='A','B','C'\n",
        "print(tt1+tt2)      #튜플을 결합\n",
        "print(tt1*2)\n",
        "tt2*2"
      ],
      "execution_count": 17,
      "outputs": [
        {
          "output_type": "stream",
          "text": [
            "(10, 20, 30, 'A', 'B', 'C')\n",
            "(10, 20, 30, 10, 20, 30)\n"
          ],
          "name": "stdout"
        },
        {
          "output_type": "execute_result",
          "data": {
            "text/plain": [
              "('A', 'B', 'C', 'A', 'B', 'C')"
            ]
          },
          "metadata": {
            "tags": []
          },
          "execution_count": 17
        }
      ]
    },
    {
      "cell_type": "markdown",
      "metadata": {
        "id": "kM6tzjLoQbmo"
      },
      "source": [
        "####튜플의 오류\n",
        "\n",
        "튜플은 값을 수정할 수 없음. 따라서 값을 추가/제거하고자 할 땐, 튜플->리스트->튜플 변환의 과정을 거침.\n",
        "\n"
      ]
    },
    {
      "cell_type": "code",
      "metadata": {
        "colab": {
          "base_uri": "https://localhost:8080/"
        },
        "id": "rCBykXBNQHtW",
        "outputId": "a3f0481c-a1c7-4f70-96ac-64a6ede47486"
      },
      "source": [
        "tt=(10,20,30)\n",
        "ls=list(tt); ls.append(40)\n",
        "tt=tuple(ls)\n",
        "tt"
      ],
      "execution_count": 18,
      "outputs": [
        {
          "output_type": "execute_result",
          "data": {
            "text/plain": [
              "(10, 20, 30, 40)"
            ]
          },
          "metadata": {
            "tags": []
          },
          "execution_count": 18
        }
      ]
    },
    {
      "cell_type": "code",
      "metadata": {
        "colab": {
          "base_uri": "https://localhost:8080/"
        },
        "id": "NPGjDxGOQuAn",
        "outputId": "b355dadf-5913-427b-f548-77e09528978b"
      },
      "source": [
        "ls=list(tt); ls.remove(40)\n",
        "tt=tuple(ls)\n",
        "tt"
      ],
      "execution_count": 19,
      "outputs": [
        {
          "output_type": "execute_result",
          "data": {
            "text/plain": [
              "(10, 20, 30)"
            ]
          },
          "metadata": {
            "tags": []
          },
          "execution_count": 19
        }
      ]
    },
    {
      "cell_type": "markdown",
      "metadata": {
        "id": "tsZk54QpRAGA"
      },
      "source": [
        "###딕셔너리"
      ]
    },
    {
      "cell_type": "code",
      "metadata": {
        "colab": {
          "base_uri": "https://localhost:8080/"
        },
        "id": "ebJ6oYOcRBUD",
        "outputId": "6b0c7300-3afc-4183-9916-d96a1413e667"
      },
      "source": [
        "dic1={1:\"a\", 2:\"b\", 3:\"c\"}\n",
        "dic2={\"a\":1, \"b\":2, \"c\":3}\n",
        "print(dic1)\n",
        "dic2"
      ],
      "execution_count": 66,
      "outputs": [
        {
          "output_type": "stream",
          "text": [
            "{1: 'a', 2: 'b', 3: 'c'}\n"
          ],
          "name": "stdout"
        },
        {
          "output_type": "execute_result",
          "data": {
            "text/plain": [
              "{'a': 1, 'b': 2, 'c': 3}"
            ]
          },
          "metadata": {
            "tags": []
          },
          "execution_count": 66
        }
      ]
    },
    {
      "cell_type": "code",
      "metadata": {
        "colab": {
          "base_uri": "https://localhost:8080/"
        },
        "id": "a93M744lRLaq",
        "outputId": "463909fa-54f9-4a24-9021-a9edd4b6f479"
      },
      "source": [
        "dic1[4]=\"d\"; print(dic1)    #추가\n",
        "dic1[3]=\"E\"; print(dic1)    #수정\n",
        "del(dic1[4]); print(dic1)   #삭제\n",
        "dic1.update(dic2)           #병합\n",
        "print(dic1)"
      ],
      "execution_count": 67,
      "outputs": [
        {
          "output_type": "stream",
          "text": [
            "{1: 'a', 2: 'b', 3: 'c', 4: 'd'}\n",
            "{1: 'a', 2: 'b', 3: 'E', 4: 'd'}\n",
            "{1: 'a', 2: 'b', 3: 'E'}\n",
            "{1: 'a', 2: 'b', 3: 'E', 'a': 1, 'b': 2, 'c': 3}\n"
          ],
          "name": "stdout"
        }
      ]
    },
    {
      "cell_type": "code",
      "metadata": {
        "colab": {
          "base_uri": "https://localhost:8080/"
        },
        "id": "u0xvTfShSLB9",
        "outputId": "d6699c33-0cda-4038-d9dd-4a7feafd3265"
      },
      "source": [
        "student1={'학번': 2020, '이름': '차수빈', '학과': '의공학부', '학번': 2021}     #동일한 키(=학번)가 존재하면 마지막에 있는 키가 적용됨\n",
        "student1"
      ],
      "execution_count": 34,
      "outputs": [
        {
          "output_type": "execute_result",
          "data": {
            "text/plain": [
              "{'이름': '차수빈', '학과': '의공학부', '학번': 2021}"
            ]
          },
          "metadata": {
            "tags": []
          },
          "execution_count": 34
        }
      ]
    },
    {
      "cell_type": "code",
      "metadata": {
        "colab": {
          "base_uri": "https://localhost:8080/",
          "height": 53
        },
        "id": "mK8bLJZ1SqzP",
        "outputId": "6c937d2e-5c47-4e76-af71-4143c195a555"
      },
      "source": [
        "print(student1['학과'])     #없는 키를 호출하면 오류 발생\n",
        "student1.get('학과')        #없는 키를 호출해도 ok"
      ],
      "execution_count": 42,
      "outputs": [
        {
          "output_type": "stream",
          "text": [
            "의공학부\n"
          ],
          "name": "stdout"
        },
        {
          "output_type": "execute_result",
          "data": {
            "application/vnd.google.colaboratory.intrinsic+json": {
              "type": "string"
            },
            "text/plain": [
              "'의공학부'"
            ]
          },
          "metadata": {
            "tags": []
          },
          "execution_count": 42
        }
      ]
    },
    {
      "cell_type": "code",
      "metadata": {
        "colab": {
          "base_uri": "https://localhost:8080/"
        },
        "id": "Wg_ftDbbS4F3",
        "outputId": "75542ed6-531b-425e-dc98-d8c2fd136efe"
      },
      "source": [
        "print(student1.keys())\n",
        "print( list(student1.keys()) )"
      ],
      "execution_count": 54,
      "outputs": [
        {
          "output_type": "stream",
          "text": [
            "dict_keys(['학번', '이름', '학과'])\n",
            "['학번', '이름', '학과']\n"
          ],
          "name": "stdout"
        }
      ]
    },
    {
      "cell_type": "code",
      "metadata": {
        "colab": {
          "base_uri": "https://localhost:8080/"
        },
        "id": "_2eQ2pPKURb3",
        "outputId": "71cb6937-8e2c-44c6-c84c-4ff0b728646c"
      },
      "source": [
        "print(student1.values())\n",
        "print( list(student1.values()) )\n",
        "\n",
        "for key in student1.keys():\n",
        "    print(student1[key])"
      ],
      "execution_count": 62,
      "outputs": [
        {
          "output_type": "stream",
          "text": [
            "dict_values([2021, '차수빈', '의공학부'])\n",
            "[2021, '차수빈', '의공학부']\n",
            "2021\n",
            "차수빈\n",
            "의공학부\n"
          ],
          "name": "stdout"
        }
      ]
    },
    {
      "cell_type": "code",
      "metadata": {
        "colab": {
          "base_uri": "https://localhost:8080/"
        },
        "id": "lo_XPhvET8FK",
        "outputId": "20a20f05-fe0c-4587-ddfc-416f4cc7b4da"
      },
      "source": [
        "student1.items()    #튜플 형태"
      ],
      "execution_count": 51,
      "outputs": [
        {
          "output_type": "execute_result",
          "data": {
            "text/plain": [
              "dict_items([('학번', 2021), ('이름', '차수빈'), ('학과', '의공학부')])"
            ]
          },
          "metadata": {
            "tags": []
          },
          "execution_count": 51
        }
      ]
    },
    {
      "cell_type": "code",
      "metadata": {
        "colab": {
          "base_uri": "https://localhost:8080/"
        },
        "id": "kr3hHOIIUEXd",
        "outputId": "f2bd9bf3-eb0c-477c-d733-4c5fd7e302f8"
      },
      "source": [
        "print('이름' in student1)\n",
        "'나이' in student1"
      ],
      "execution_count": 53,
      "outputs": [
        {
          "output_type": "stream",
          "text": [
            "True\n"
          ],
          "name": "stdout"
        },
        {
          "output_type": "execute_result",
          "data": {
            "text/plain": [
              "False"
            ]
          },
          "metadata": {
            "tags": []
          },
          "execution_count": 53
        }
      ]
    },
    {
      "cell_type": "code",
      "metadata": {
        "colab": {
          "base_uri": "https://localhost:8080/"
        },
        "id": "L6YvVfZeWhDh",
        "outputId": "96fc5629-c777-47dc-b71f-e52469fb3237"
      },
      "source": [
        "foods={\"떡볶이\":\"오뎅\", \"짜장면\":\"단무지\", \"라면\":\"김치\", \"피자\":\"피클\", \"치킨\":\"콜라\"}\n",
        "\n",
        "while True:\n",
        "    favor=input(str(list(foods.keys()))+\" 중 좋아하는 음식은? (0:종료) \")\n",
        "    if favor in foods:\n",
        "        print(\"%s의 궁합 음식은 %s입니다.\" %(favor, foods[favor]))  #foods.get(favor)\n",
        "    elif favor=='0': break\n",
        "    else: print(\"다시 입력해 주세요.\")"
      ],
      "execution_count": 73,
      "outputs": [
        {
          "output_type": "stream",
          "text": [
            "['떡볶이', '짜장면', '라면', '피자', '치킨'] 중 좋아하는 음식은? (0:종료) 뿌링클\n",
            "다시 입력해 주세요.\n",
            "['떡볶이', '짜장면', '라면', '피자', '치킨'] 중 좋아하는 음식은? (0:종료) 떡볶이\n",
            "떡볶이의 궁합 음식은 오뎅입니다.\n",
            "['떡볶이', '짜장면', '라면', '피자', '치킨'] 중 좋아하는 음식은? (0:종료) 0\n"
          ],
          "name": "stdout"
        }
      ]
    },
    {
      "cell_type": "code",
      "metadata": {
        "colab": {
          "base_uri": "https://localhost:8080/"
        },
        "id": "ZNFjFgpAXmWX",
        "outputId": "e131afc7-fcd6-43e6-a872-2a9345cc89e8"
      },
      "source": [
        "foods=['떡볶이','짜장면','라면','피자','치킨']\n",
        "sides=['오뎅','단무지','김치','피클','콜라']\n",
        "\n",
        "for i,j in zip(foods,sides):\n",
        "    print(i,'=>',j)"
      ],
      "execution_count": 89,
      "outputs": [
        {
          "output_type": "stream",
          "text": [
            "떡볶이 => 오뎅\n",
            "짜장면 => 단무지\n",
            "라면 => 김치\n",
            "피자 => 피클\n",
            "치킨 => 콜라\n",
            "[('떡볶이', '오뎅'), ('짜장면', '단무지'), ('라면', '김치'), ('피자', '피클'), ('치킨', '콜라')]\n"
          ],
          "name": "stdout"
        },
        {
          "output_type": "execute_result",
          "data": {
            "text/plain": [
              "{'떡볶이': '오뎅', '라면': '김치', '짜장면': '단무지', '치킨': '콜라', '피자': '피클'}"
            ]
          },
          "metadata": {
            "tags": []
          },
          "execution_count": 89
        }
      ]
    },
    {
      "cell_type": "markdown",
      "metadata": {
        "id": "A9zCi4xnY-kK"
      },
      "source": [
        "####zip()"
      ]
    },
    {
      "cell_type": "code",
      "metadata": {
        "colab": {
          "base_uri": "https://localhost:8080/"
        },
        "id": "nxVbbY2XY9Gx",
        "outputId": "ea944aea-4372-40a6-dc6b-095016d4c530"
      },
      "source": [
        "print(list( zip(foods, sides) ))\n",
        "dict( zip(foods,sides) )"
      ],
      "execution_count": 90,
      "outputs": [
        {
          "output_type": "stream",
          "text": [
            "[('떡볶이', '오뎅'), ('짜장면', '단무지'), ('라면', '김치'), ('피자', '피클'), ('치킨', '콜라')]\n"
          ],
          "name": "stdout"
        },
        {
          "output_type": "execute_result",
          "data": {
            "text/plain": [
              "{'떡볶이': '오뎅', '라면': '김치', '짜장면': '단무지', '치킨': '콜라', '피자': '피클'}"
            ]
          },
          "metadata": {
            "tags": []
          },
          "execution_count": 90
        }
      ]
    },
    {
      "cell_type": "markdown",
      "metadata": {
        "id": "1nmwFX04WSBA"
      },
      "source": [
        "####딕셔너리의 정렬\n",
        "\n",
        "딕셔너리에는 순서가 없어, 생성한 순서대로 딕셔너리가 구성된다는 보장 없음."
      ]
    },
    {
      "cell_type": "code",
      "metadata": {
        "colab": {
          "base_uri": "https://localhost:8080/"
        },
        "id": "8UoZJd-7VeTo",
        "outputId": "32d44982-c292-4a1b-a0d2-e7538b94a083"
      },
      "source": [
        "import operator\n",
        "dic={\"one\":1, \"two\":2, \"three\":3, \"four\":4, \"five\":5}\n",
        "List=sorted(dic.items(), key=operator.itemgetter(0))    #abce <f> ghijklmn <o> pqrs <t> uvwxyz\n",
        "List"
      ],
      "execution_count": 68,
      "outputs": [
        {
          "output_type": "execute_result",
          "data": {
            "text/plain": [
              "[('five', 5), ('four', 4), ('one', 1), ('three', 3), ('two', 2)]"
            ]
          },
          "metadata": {
            "tags": []
          },
          "execution_count": 68
        }
      ]
    }
  ]
}