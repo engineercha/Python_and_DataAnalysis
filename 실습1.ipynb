{
  "nbformat": 4,
  "nbformat_minor": 0,
  "metadata": {
    "colab": {
      "name": "실습1",
      "provenance": [],
      "collapsed_sections": [],
      "toc_visible": true
    },
    "kernelspec": {
      "name": "python3",
      "display_name": "Python 3"
    }
  },
  "cells": [
    {
      "cell_type": "markdown",
      "metadata": {
        "id": "reibYaHxOaPl"
      },
      "source": [
        "2021년 3월 15일 실습1"
      ]
    },
    {
      "cell_type": "markdown",
      "metadata": {
        "id": "MtmUwGJCLhTl"
      },
      "source": [
        "###변수"
      ]
    },
    {
      "cell_type": "markdown",
      "metadata": {
        "id": "J7gtjqTifycT"
      },
      "source": [
        "####type() 함수"
      ]
    },
    {
      "cell_type": "code",
      "metadata": {
        "colab": {
          "base_uri": "https://localhost:8080/"
        },
        "id": "kXuyOCsmBffe",
        "outputId": "83b31e90-29a8-4894-9afd-f3b54233cdd5"
      },
      "source": [
        "boolVar=True\n",
        "int_Var=0\n",
        "floatVar_=0.0   #변수명은 숫자와 언더바로 시작 불가\n",
        "str=\"\"\n",
        "\n",
        "myVar=100\n",
        "print(type(myVar))\n",
        "myVar=100.0\n",
        "print(type(myVar))"
      ],
      "execution_count": 18,
      "outputs": [
        {
          "output_type": "stream",
          "text": [
            "<class 'int'>\n",
            "<class 'float'>\n"
          ],
          "name": "stdout"
        }
      ]
    },
    {
      "cell_type": "markdown",
      "metadata": {
        "id": "TWGgJD1XLlWC"
      },
      "source": [
        "####id() 함수\n",
        "\n",
        "변수가 가리키는 객체의 주소값을 반환하는 함수"
      ]
    },
    {
      "cell_type": "code",
      "metadata": {
        "colab": {
          "base_uri": "https://localhost:8080/"
        },
        "id": "PK4w_E1T9M7j",
        "outputId": "2f95dae3-fbac-4627-eec3-a6e05d0e65f4"
      },
      "source": [
        "a=100\n",
        "b=50\n",
        "print(id(a),\"=\",id(100))\n",
        "print(id(b),\"=\",id(50))\n",
        "\n",
        "a=50\n",
        "print(id(a))\n",
        "print(id(b))"
      ],
      "execution_count": 19,
      "outputs": [
        {
          "output_type": "stream",
          "text": [
            "94430325847648 = 94430325847648\n",
            "94430325846048 = 94430325846048\n",
            "94430325846048\n",
            "94430325846048\n"
          ],
          "name": "stdout"
        }
      ]
    },
    {
      "cell_type": "markdown",
      "metadata": {
        "id": "NvPiD_T6LqVX"
      },
      "source": [
        "###숫자 자료형"
      ]
    },
    {
      "cell_type": "code",
      "metadata": {
        "colab": {
          "base_uri": "https://localhost:8080/"
        },
        "id": "Lv6gDHwiCm4C",
        "outputId": "b2155123-6dcb-410d-e5b2-95462f845ee0"
      },
      "source": [
        "a=100\n",
        "b=50\n",
        "result=a+b\n",
        "print(a,\"+\",b,\"=\",result)\n",
        "\n",
        "result=a-b\n",
        "print(a,\"-\",b,\"=\",result)\n",
        "result=a*b\n",
        "print(a,\"*\",b,\"=\",result)\n",
        "result=a/b\n",
        "print(a,\"/\",b,\"=\",result)"
      ],
      "execution_count": 20,
      "outputs": [
        {
          "output_type": "stream",
          "text": [
            "100 + 50 = 150\n",
            "100 - 50 = 50\n",
            "100 * 50 = 5000\n",
            "100 / 50 = 2.0\n"
          ],
          "name": "stdout"
        }
      ]
    },
    {
      "cell_type": "markdown",
      "metadata": {
        "id": "VgBYY2WMM226"
      },
      "source": [
        "###불형"
      ]
    },
    {
      "cell_type": "code",
      "metadata": {
        "colab": {
          "base_uri": "https://localhost:8080/"
        },
        "id": "gNCCg0d-D9d4",
        "outputId": "1cce01e9-d0cb-4189-8977-ea1a290e6853"
      },
      "source": [
        "a=True\n",
        "print(a)\n",
        "print(type(a))\n",
        "\n",
        "a=(100==100)\n",
        "b=(10>100)\n",
        "print(a,b)"
      ],
      "execution_count": 21,
      "outputs": [
        {
          "output_type": "stream",
          "text": [
            "True\n",
            "<class 'bool'>\n",
            "True False\n"
          ],
          "name": "stdout"
        }
      ]
    },
    {
      "cell_type": "markdown",
      "metadata": {
        "id": "TTP_PFPyM6Oh"
      },
      "source": [
        "###문자형"
      ]
    },
    {
      "cell_type": "code",
      "metadata": {
        "colab": {
          "base_uri": "https://localhost:8080/"
        },
        "id": "1D_7gl3ZES5L",
        "outputId": "9d813965-8ec4-43b1-8123-ee43b489dfae"
      },
      "source": [
        "a=\"파이썬 만세\"\n",
        "print(a)\n",
        "print(type(a))\n",
        "\n",
        "#문자열 중간에 따옴표를 출력하고 싶으면 다른 따옴표로 묶어줌\n",
        "print('큰 따옴표는 \" 모양이다')\n",
        "print(\"작은 따옴표는 ' 모양이다\")   \n",
        "\n",
        "#백슬래시 뒤에 따옴표를 써도 글자로 인식함\n",
        "a=\"큰 따옴표는 \\\" 모양이다\"\n",
        "b='작은 따옴표는 \\' 모양이다'   \n",
        "print(a, b)\n",
        "\n",
        "#따옴표 3개를 연속해 묶으면 여러 줄로 표현됨\n",
        "a=\"파이썬 \\n만세\"\n",
        "print(a)\n",
        "a=\"\"\"파이썬\n",
        "만세\"\"\"\n",
        "print(a)\n",
        "\n",
        "# b='파이썬\n",
        "# 만세'\n",
        "\n",
        "#부여된 순서 번호로 각 문자 접근\n",
        "a='1$ 환율은 1100입니다.'\n",
        "a=\"currency exchange rates\"\n",
        "print(\"=========================\")\n",
        "print(\"\\n01234567890123456789012\")\n",
        "print(a)\n",
        "print(\"=========================\")\n",
        "print(a[0])\n",
        "print(a[1])\n",
        "print(a[-1])\n",
        "print(a[-2])\n",
        "print(a[7:14])"
      ],
      "execution_count": 22,
      "outputs": [
        {
          "output_type": "stream",
          "text": [
            "파이썬 만세\n",
            "<class 'str'>\n",
            "큰 따옴표는 \" 모양이다\n",
            "작은 따옴표는 ' 모양이다\n",
            "큰 따옴표는 \" 모양이다 작은 따옴표는 ' 모양이다\n",
            "파이썬 \n",
            "만세\n",
            "파이썬\n",
            "만세\n",
            "=========================\n",
            "\n",
            "01234567890123456789012\n",
            "currency exchange rates\n",
            "=========================\n",
            "c\n",
            "u\n",
            "s\n",
            "e\n",
            "y excha\n"
          ],
          "name": "stdout"
        }
      ]
    },
    {
      "cell_type": "markdown",
      "metadata": {
        "id": "xVB8Am0mM9YW"
      },
      "source": [
        "###숫자 vs 문자열"
      ]
    },
    {
      "cell_type": "markdown",
      "metadata": {
        "id": "EtbDwnxrhfJT"
      },
      "source": [
        "#### 100 vs \"100\""
      ]
    },
    {
      "cell_type": "code",
      "metadata": {
        "colab": {
          "base_uri": "https://localhost:8080/"
        },
        "id": "hnOtTGRkI9pg",
        "outputId": "82d17ad3-73bd-4635-c744-c10685ef5729"
      },
      "source": [
        "num=100\n",
        "strnum=\"100\"\n",
        "print(type(num))\n",
        "print(type(strnum))\n",
        "\n",
        "print(num+num)\n",
        "print(strnum+strnum)\n",
        "# print(strnum+num)     에러 발생"
      ],
      "execution_count": 3,
      "outputs": [
        {
          "output_type": "stream",
          "text": [
            "<class 'int'>\n",
            "<class 'str'>\n",
            "200\n",
            "100100\n"
          ],
          "name": "stdout"
        }
      ]
    },
    {
      "cell_type": "markdown",
      "metadata": {
        "id": "3MVOhyyXhji8"
      },
      "source": [
        "#### 산술연산"
      ]
    },
    {
      "cell_type": "code",
      "metadata": {
        "colab": {
          "base_uri": "https://localhost:8080/"
        },
        "id": "eBkmYvhVhlh8",
        "outputId": "8499a3e1-34d2-4a81-b139-6e8286046d27"
      },
      "source": [
        "a,b,c=\"100\",\"123.456\",\"99999999\"\n",
        "print(int(a)+1, float(b)+1, int(c)+1)\n",
        "print(a+\"1\", b+\"7\", c+\"9999999\")\n",
        "# print(a+1, b+1, c+1)     에러 발생"
      ],
      "execution_count": 8,
      "outputs": [
        {
          "output_type": "stream",
          "text": [
            "101 124.456 100000000\n",
            "1001 123.4567 999999999999999\n"
          ],
          "name": "stdout"
        }
      ]
    },
    {
      "cell_type": "markdown",
      "metadata": {
        "id": "ZhQ-MNO6DLTG"
      },
      "source": [
        "###수식의 표현"
      ]
    },
    {
      "cell_type": "code",
      "metadata": {
        "colab": {
          "base_uri": "https://localhost:8080/"
        },
        "id": "vJpyvAewDKoH",
        "outputId": "6e36b4de-1a48-4cea-d791-9ddfd1d78d04"
      },
      "source": [
        "#2개 이상의 변수 선언\n",
        "a=5; b=3\n",
        "print(a+b, a-b, a*b, a/b, a//b, a%b, a**b)\n",
        "a,b=5,3\n",
        "print(a+b, a-b, a*b, a/b, a//b, a%b, a**b)\n",
        "\n",
        "print(\"연산자 우선 순위\")\n",
        "a,b,c=2,3,4\n",
        "print(a+b-c, a+b*c, a+b/c)"
      ],
      "execution_count": 4,
      "outputs": [
        {
          "output_type": "stream",
          "text": [
            "8 2 15 1.6666666666666667 1 2 125\n",
            "8 2 15 1.6666666666666667 1 2 125\n",
            "연산자 우선 순위\n",
            "1 14 2.75\n"
          ],
          "name": "stdout"
        }
      ]
    },
    {
      "cell_type": "markdown",
      "metadata": {
        "id": "mDacHR0WiJWL"
      },
      "source": [
        "###연산"
      ]
    },
    {
      "cell_type": "code",
      "metadata": {
        "colab": {
          "base_uri": "https://localhost:8080/"
        },
        "id": "SzGGwX21iKpE",
        "outputId": "cee2785a-a57f-42fa-e977-ef9328f0e97a"
      },
      "source": [
        "a=100\n",
        "b=200\n",
        "print(a==b, a!=b, a>b, a<b, a>=b, a<=b, sep=', ')"
      ],
      "execution_count": 12,
      "outputs": [
        {
          "output_type": "stream",
          "text": [
            "False, True, False, True, False, True\n",
            "200\n"
          ],
          "name": "stdout"
        }
      ]
    },
    {
      "cell_type": "code",
      "metadata": {
        "colab": {
          "base_uri": "https://localhost:8080/"
        },
        "id": "jzCYQlQ3iiqw",
        "outputId": "2625e49a-daf6-4f18-f606-c0d9c5710471"
      },
      "source": [
        "a=100\n",
        "print((a>100) and (a<200))\n",
        "print((a>100) or (a<200))\n",
        "\n",
        "if(7): print(\"True1\")\n",
        "if(0): print(\"True2\")"
      ],
      "execution_count": 16,
      "outputs": [
        {
          "output_type": "stream",
          "text": [
            "False\n",
            "True\n",
            "True1\n"
          ],
          "name": "stdout"
        }
      ]
    },
    {
      "cell_type": "markdown",
      "metadata": {
        "id": "Ow38pvqoLcg1"
      },
      "source": [
        "###입출력"
      ]
    },
    {
      "cell_type": "code",
      "metadata": {
        "colab": {
          "base_uri": "https://localhost:8080/"
        },
        "id": "8derroSOJcKz",
        "outputId": "5d5bc0bd-0793-44bf-b4fd-6df95045d21c"
      },
      "source": [
        "print(\"Hello world!\")\n",
        "eng=input(\"영어 점수를 입력하시오: \")   #사용자 입력\n",
        "math=input(\"수학 점수를 입력하시오: \")\n",
        "total=eng+math\n",
        "print(\"총점=\", total)\n",
        "\n",
        "eng=int(input(\"영어 점수를 입력하시오: \"))\n",
        "math=int(input(\"수학 점수를 입력하시오: \"))\n",
        "total=eng+math\n",
        "print(\"총점=\", total)\n",
        "\n",
        "name=input(\"이름을 입력하시오: \")\n",
        "print(name+\"님 반갑습니다.\")"
      ],
      "execution_count": 17,
      "outputs": [
        {
          "output_type": "stream",
          "text": [
            "Hello world!\n",
            "영어 점수를 입력하시오: 78\n",
            "수학 점수를 입력하시오: 29\n",
            "총점= 7829\n",
            "영어 점수를 입력하시오: 78\n",
            "수학 점수를 입력하시오: 29\n",
            "총점= 107\n",
            "이름을 입력하시오: 차수빈\n",
            "차수빈님 반갑습니다.\n"
          ],
          "name": "stdout"
        }
      ]
    }
  ]
}